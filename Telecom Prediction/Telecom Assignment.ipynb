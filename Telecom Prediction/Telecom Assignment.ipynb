{
 "cells": [
  {
   "cell_type": "code",
   "execution_count": 1,
   "metadata": {},
   "outputs": [],
   "source": [
    "import pandas as pd\n",
    "import numpy as np\n",
    "import matplotlib.pyplot as plt\n",
    "%matplotlib inline\n",
    "import seaborn as sns\n",
    "import warnings\n",
    "warnings.filterwarnings(\"ignore\")"
   ]
  },
  {
   "cell_type": "code",
   "execution_count": 2,
   "metadata": {},
   "outputs": [],
   "source": [
    "telecom_filepath = r\"C:\\Users\\User\\Documents\\GitHub\\25DaysInMachineLearning\\24 - Day - 24 - Ensemble\\Assignment\\churn.csv\"\n",
    "df = pd.read_csv(telecom_filepath)"
   ]
  },
  {
   "cell_type": "code",
   "execution_count": 3,
   "metadata": {},
   "outputs": [
    {
     "data": {
      "text/html": [
       "<div>\n",
       "<style scoped>\n",
       "    .dataframe tbody tr th:only-of-type {\n",
       "        vertical-align: middle;\n",
       "    }\n",
       "\n",
       "    .dataframe tbody tr th {\n",
       "        vertical-align: top;\n",
       "    }\n",
       "\n",
       "    .dataframe thead th {\n",
       "        text-align: right;\n",
       "    }\n",
       "</style>\n",
       "<table border=\"1\" class=\"dataframe\">\n",
       "  <thead>\n",
       "    <tr style=\"text-align: right;\">\n",
       "      <th></th>\n",
       "      <th>State</th>\n",
       "      <th>Account Length</th>\n",
       "      <th>Area Code</th>\n",
       "      <th>Phone</th>\n",
       "      <th>Int'l Plan</th>\n",
       "      <th>VMail Plan</th>\n",
       "      <th>VMail Message</th>\n",
       "      <th>Day Mins</th>\n",
       "      <th>Day Calls</th>\n",
       "      <th>Day Charge</th>\n",
       "      <th>...</th>\n",
       "      <th>Eve Calls</th>\n",
       "      <th>Eve Charge</th>\n",
       "      <th>Night Mins</th>\n",
       "      <th>Night Calls</th>\n",
       "      <th>Night Charge</th>\n",
       "      <th>Intl Mins</th>\n",
       "      <th>Intl Calls</th>\n",
       "      <th>Intl Charge</th>\n",
       "      <th>CustServ Calls</th>\n",
       "      <th>Churn?</th>\n",
       "    </tr>\n",
       "  </thead>\n",
       "  <tbody>\n",
       "    <tr>\n",
       "      <th>0</th>\n",
       "      <td>KS</td>\n",
       "      <td>128</td>\n",
       "      <td>415</td>\n",
       "      <td>382-4657</td>\n",
       "      <td>no</td>\n",
       "      <td>yes</td>\n",
       "      <td>25</td>\n",
       "      <td>265.1</td>\n",
       "      <td>110</td>\n",
       "      <td>45.07</td>\n",
       "      <td>...</td>\n",
       "      <td>99</td>\n",
       "      <td>16.78</td>\n",
       "      <td>244.7</td>\n",
       "      <td>91</td>\n",
       "      <td>11.01</td>\n",
       "      <td>10.0</td>\n",
       "      <td>3</td>\n",
       "      <td>2.70</td>\n",
       "      <td>1</td>\n",
       "      <td>False.</td>\n",
       "    </tr>\n",
       "    <tr>\n",
       "      <th>1</th>\n",
       "      <td>OH</td>\n",
       "      <td>107</td>\n",
       "      <td>415</td>\n",
       "      <td>371-7191</td>\n",
       "      <td>no</td>\n",
       "      <td>yes</td>\n",
       "      <td>26</td>\n",
       "      <td>161.6</td>\n",
       "      <td>123</td>\n",
       "      <td>27.47</td>\n",
       "      <td>...</td>\n",
       "      <td>103</td>\n",
       "      <td>16.62</td>\n",
       "      <td>254.4</td>\n",
       "      <td>103</td>\n",
       "      <td>11.45</td>\n",
       "      <td>13.7</td>\n",
       "      <td>3</td>\n",
       "      <td>3.70</td>\n",
       "      <td>1</td>\n",
       "      <td>False.</td>\n",
       "    </tr>\n",
       "    <tr>\n",
       "      <th>2</th>\n",
       "      <td>NJ</td>\n",
       "      <td>137</td>\n",
       "      <td>415</td>\n",
       "      <td>358-1921</td>\n",
       "      <td>no</td>\n",
       "      <td>no</td>\n",
       "      <td>0</td>\n",
       "      <td>243.4</td>\n",
       "      <td>114</td>\n",
       "      <td>41.38</td>\n",
       "      <td>...</td>\n",
       "      <td>110</td>\n",
       "      <td>10.30</td>\n",
       "      <td>162.6</td>\n",
       "      <td>104</td>\n",
       "      <td>7.32</td>\n",
       "      <td>12.2</td>\n",
       "      <td>5</td>\n",
       "      <td>3.29</td>\n",
       "      <td>0</td>\n",
       "      <td>False.</td>\n",
       "    </tr>\n",
       "    <tr>\n",
       "      <th>3</th>\n",
       "      <td>OH</td>\n",
       "      <td>84</td>\n",
       "      <td>408</td>\n",
       "      <td>375-9999</td>\n",
       "      <td>yes</td>\n",
       "      <td>no</td>\n",
       "      <td>0</td>\n",
       "      <td>299.4</td>\n",
       "      <td>71</td>\n",
       "      <td>50.90</td>\n",
       "      <td>...</td>\n",
       "      <td>88</td>\n",
       "      <td>5.26</td>\n",
       "      <td>196.9</td>\n",
       "      <td>89</td>\n",
       "      <td>8.86</td>\n",
       "      <td>6.6</td>\n",
       "      <td>7</td>\n",
       "      <td>1.78</td>\n",
       "      <td>2</td>\n",
       "      <td>False.</td>\n",
       "    </tr>\n",
       "    <tr>\n",
       "      <th>4</th>\n",
       "      <td>OK</td>\n",
       "      <td>75</td>\n",
       "      <td>415</td>\n",
       "      <td>330-6626</td>\n",
       "      <td>yes</td>\n",
       "      <td>no</td>\n",
       "      <td>0</td>\n",
       "      <td>166.7</td>\n",
       "      <td>113</td>\n",
       "      <td>28.34</td>\n",
       "      <td>...</td>\n",
       "      <td>122</td>\n",
       "      <td>12.61</td>\n",
       "      <td>186.9</td>\n",
       "      <td>121</td>\n",
       "      <td>8.41</td>\n",
       "      <td>10.1</td>\n",
       "      <td>3</td>\n",
       "      <td>2.73</td>\n",
       "      <td>3</td>\n",
       "      <td>False.</td>\n",
       "    </tr>\n",
       "  </tbody>\n",
       "</table>\n",
       "<p>5 rows × 21 columns</p>\n",
       "</div>"
      ],
      "text/plain": [
       "  State  Account Length  Area Code     Phone Int'l Plan VMail Plan  \\\n",
       "0    KS             128        415  382-4657         no        yes   \n",
       "1    OH             107        415  371-7191         no        yes   \n",
       "2    NJ             137        415  358-1921         no         no   \n",
       "3    OH              84        408  375-9999        yes         no   \n",
       "4    OK              75        415  330-6626        yes         no   \n",
       "\n",
       "   VMail Message  Day Mins  Day Calls  Day Charge  ...  Eve Calls  Eve Charge  \\\n",
       "0             25     265.1        110       45.07  ...         99       16.78   \n",
       "1             26     161.6        123       27.47  ...        103       16.62   \n",
       "2              0     243.4        114       41.38  ...        110       10.30   \n",
       "3              0     299.4         71       50.90  ...         88        5.26   \n",
       "4              0     166.7        113       28.34  ...        122       12.61   \n",
       "\n",
       "   Night Mins  Night Calls  Night Charge  Intl Mins  Intl Calls  Intl Charge  \\\n",
       "0       244.7           91         11.01       10.0           3         2.70   \n",
       "1       254.4          103         11.45       13.7           3         3.70   \n",
       "2       162.6          104          7.32       12.2           5         3.29   \n",
       "3       196.9           89          8.86        6.6           7         1.78   \n",
       "4       186.9          121          8.41       10.1           3         2.73   \n",
       "\n",
       "   CustServ Calls  Churn?  \n",
       "0               1  False.  \n",
       "1               1  False.  \n",
       "2               0  False.  \n",
       "3               2  False.  \n",
       "4               3  False.  \n",
       "\n",
       "[5 rows x 21 columns]"
      ]
     },
     "execution_count": 3,
     "metadata": {},
     "output_type": "execute_result"
    }
   ],
   "source": [
    "df.head()"
   ]
  },
  {
   "cell_type": "code",
   "execution_count": 4,
   "metadata": {},
   "outputs": [
    {
     "name": "stdout",
     "output_type": "stream",
     "text": [
      "<class 'pandas.core.frame.DataFrame'>\n",
      "RangeIndex: 3333 entries, 0 to 3332\n",
      "Data columns (total 21 columns):\n",
      "State             3333 non-null object\n",
      "Account Length    3333 non-null int64\n",
      "Area Code         3333 non-null int64\n",
      "Phone             3333 non-null object\n",
      "Int'l Plan        3333 non-null object\n",
      "VMail Plan        3333 non-null object\n",
      "VMail Message     3333 non-null int64\n",
      "Day Mins          3333 non-null float64\n",
      "Day Calls         3333 non-null int64\n",
      "Day Charge        3333 non-null float64\n",
      "Eve Mins          3333 non-null float64\n",
      "Eve Calls         3333 non-null int64\n",
      "Eve Charge        3333 non-null float64\n",
      "Night Mins        3333 non-null float64\n",
      "Night Calls       3333 non-null int64\n",
      "Night Charge      3333 non-null float64\n",
      "Intl Mins         3333 non-null float64\n",
      "Intl Calls        3333 non-null int64\n",
      "Intl Charge       3333 non-null float64\n",
      "CustServ Calls    3333 non-null int64\n",
      "Churn?            3333 non-null object\n",
      "dtypes: float64(8), int64(8), object(5)\n",
      "memory usage: 546.9+ KB\n"
     ]
    }
   ],
   "source": [
    "df.info()"
   ]
  },
  {
   "cell_type": "code",
   "execution_count": 5,
   "metadata": {},
   "outputs": [
    {
     "data": {
      "text/html": [
       "<div>\n",
       "<style scoped>\n",
       "    .dataframe tbody tr th:only-of-type {\n",
       "        vertical-align: middle;\n",
       "    }\n",
       "\n",
       "    .dataframe tbody tr th {\n",
       "        vertical-align: top;\n",
       "    }\n",
       "\n",
       "    .dataframe thead th {\n",
       "        text-align: right;\n",
       "    }\n",
       "</style>\n",
       "<table border=\"1\" class=\"dataframe\">\n",
       "  <thead>\n",
       "    <tr style=\"text-align: right;\">\n",
       "      <th></th>\n",
       "      <th>State</th>\n",
       "      <th>Account Length</th>\n",
       "      <th>Area Code</th>\n",
       "      <th>Phone</th>\n",
       "      <th>Int'l Plan</th>\n",
       "      <th>VMail Plan</th>\n",
       "      <th>VMail Message</th>\n",
       "      <th>Day Mins</th>\n",
       "      <th>Day Calls</th>\n",
       "      <th>Day Charge</th>\n",
       "      <th>...</th>\n",
       "      <th>Eve Calls</th>\n",
       "      <th>Eve Charge</th>\n",
       "      <th>Night Mins</th>\n",
       "      <th>Night Calls</th>\n",
       "      <th>Night Charge</th>\n",
       "      <th>Intl Mins</th>\n",
       "      <th>Intl Calls</th>\n",
       "      <th>Intl Charge</th>\n",
       "      <th>CustServ Calls</th>\n",
       "      <th>Churn?</th>\n",
       "    </tr>\n",
       "  </thead>\n",
       "  <tbody>\n",
       "  </tbody>\n",
       "</table>\n",
       "<p>0 rows × 21 columns</p>\n",
       "</div>"
      ],
      "text/plain": [
       "Empty DataFrame\n",
       "Columns: [State, Account Length, Area Code, Phone, Int'l Plan, VMail Plan, VMail Message, Day Mins, Day Calls, Day Charge, Eve Mins, Eve Calls, Eve Charge, Night Mins, Night Calls, Night Charge, Intl Mins, Intl Calls, Intl Charge, CustServ Calls, Churn?]\n",
       "Index: []\n",
       "\n",
       "[0 rows x 21 columns]"
      ]
     },
     "execution_count": 5,
     "metadata": {},
     "output_type": "execute_result"
    }
   ],
   "source": [
    "df[df.duplicated()]"
   ]
  },
  {
   "cell_type": "code",
   "execution_count": 7,
   "metadata": {},
   "outputs": [
    {
     "data": {
      "text/plain": [
       "State             0\n",
       "Account Length    0\n",
       "Area Code         0\n",
       "Phone             0\n",
       "Int'l Plan        0\n",
       "VMail Plan        0\n",
       "VMail Message     0\n",
       "Day Mins          0\n",
       "Day Calls         0\n",
       "Day Charge        0\n",
       "Eve Mins          0\n",
       "Eve Calls         0\n",
       "Eve Charge        0\n",
       "Night Mins        0\n",
       "Night Calls       0\n",
       "Night Charge      0\n",
       "Intl Mins         0\n",
       "Intl Calls        0\n",
       "Intl Charge       0\n",
       "CustServ Calls    0\n",
       "Churn?            0\n",
       "dtype: int64"
      ]
     },
     "execution_count": 7,
     "metadata": {},
     "output_type": "execute_result"
    }
   ],
   "source": [
    "df.isna().sum()"
   ]
  },
  {
   "cell_type": "code",
   "execution_count": 8,
   "metadata": {},
   "outputs": [
    {
     "data": {
      "text/plain": [
       "(3333, 21)"
      ]
     },
     "execution_count": 8,
     "metadata": {},
     "output_type": "execute_result"
    }
   ],
   "source": [
    "df.shape"
   ]
  },
  {
   "cell_type": "code",
   "execution_count": 9,
   "metadata": {},
   "outputs": [
    {
     "data": {
      "image/png": "[encoded data removed]",
      "text/plain": [
       "<Figure size 1440x360 with 1 Axes>"
      ]
     },
     "metadata": {},
     "output_type": "display_data"
    }
   ],
   "source": [
    "size = df[\"Churn?\"].value_counts()\n",
    "colors = [\"grey\",\"purple\"] \n",
    "explode = (0.1, 0)\n",
    "labels = 'No','Yes'\n",
    "\n",
    "\n",
    "# Plot\n",
    "plt.figure(figsize=(20,5))\n",
    "plt.pie(size, colors=colors,explode = explode,labels = labels,\n",
    "        autopct='%2.2f%%', shadow=True)\n",
    "plt.title('Percentage of Churn in Dataset')\n",
    "plt.show()\n"
   ]
  },
  {
   "cell_type": "code",
   "execution_count": 6,
   "metadata": {},
   "outputs": [],
   "source": [
    "df[\"Churn?\"].replace({\"False.\": 0 ,\"True.\": 1},inplace = True)"
   ]
  },
  {
   "cell_type": "code",
   "execution_count": 7,
   "metadata": {},
   "outputs": [],
   "source": [
    "df.rename(columns = {\"Churn?\" : \"Churn\",\"Int'l Plan\":\"Intl Plan\"},inplace = True)"
   ]
  },
  {
   "cell_type": "code",
   "execution_count": 8,
   "metadata": {},
   "outputs": [
    {
     "data": {
      "text/plain": [
       "Index(['State', 'Account Length', 'Area Code', 'Phone', 'Intl Plan',\n",
       "       'VMail Plan', 'VMail Message', 'Day Mins', 'Day Calls', 'Day Charge',\n",
       "       'Eve Mins', 'Eve Calls', 'Eve Charge', 'Night Mins', 'Night Calls',\n",
       "       'Night Charge', 'Intl Mins', 'Intl Calls', 'Intl Charge',\n",
       "       'CustServ Calls', 'Churn'],\n",
       "      dtype='object')"
      ]
     },
     "execution_count": 8,
     "metadata": {},
     "output_type": "execute_result"
    }
   ],
   "source": [
    "df.columns"
   ]
  },
  {
   "cell_type": "code",
   "execution_count": 9,
   "metadata": {},
   "outputs": [
    {
     "data": {
      "text/plain": [
       "no     3010\n",
       "yes     323\n",
       "Name: Intl Plan, dtype: int64"
      ]
     },
     "execution_count": 9,
     "metadata": {},
     "output_type": "execute_result"
    }
   ],
   "source": [
    "df[\"Intl Plan\"].value_counts()"
   ]
  },
  {
   "cell_type": "code",
   "execution_count": 10,
   "metadata": {},
   "outputs": [],
   "source": [
    "df[\"Intl Plan\"].replace({\"no\": 0 ,\"yes\": 1},inplace = True)"
   ]
  },
  {
   "cell_type": "code",
   "execution_count": 15,
   "metadata": {},
   "outputs": [
    {
     "data": {
      "text/plain": [
       "no     2411\n",
       "yes     922\n",
       "Name: VMail Plan, dtype: int64"
      ]
     },
     "execution_count": 15,
     "metadata": {},
     "output_type": "execute_result"
    }
   ],
   "source": [
    "df[\"VMail Plan\"].value_counts()"
   ]
  },
  {
   "cell_type": "code",
   "execution_count": 11,
   "metadata": {},
   "outputs": [],
   "source": [
    "df[\"VMail Plan\"].replace({\"no\": 0 ,\"yes\": 1},inplace = True)"
   ]
  },
  {
   "cell_type": "code",
   "execution_count": 17,
   "metadata": {},
   "outputs": [],
   "source": [
    "cat_cols = df.select_dtypes(exclude = np.number).columns"
   ]
  },
  {
   "cell_type": "code",
   "execution_count": 18,
   "metadata": {},
   "outputs": [
    {
     "data": {
      "text/plain": [
       "Index(['State', 'Phone'], dtype='object')"
      ]
     },
     "execution_count": 18,
     "metadata": {},
     "output_type": "execute_result"
    }
   ],
   "source": [
    "cat_cols"
   ]
  },
  {
   "cell_type": "code",
   "execution_count": 12,
   "metadata": {},
   "outputs": [],
   "source": [
    "df.drop(columns = ['State', 'Phone','Area Code'],inplace = True)"
   ]
  },
  {
   "cell_type": "code",
   "execution_count": 20,
   "metadata": {},
   "outputs": [
    {
     "data": {
      "text/plain": [
       "Index(['Account Length', 'Intl Plan', 'VMail Plan', 'VMail Message',\n",
       "       'Day Mins', 'Day Calls', 'Day Charge', 'Eve Mins', 'Eve Calls',\n",
       "       'Eve Charge', 'Night Mins', 'Night Calls', 'Night Charge', 'Intl Mins',\n",
       "       'Intl Calls', 'Intl Charge', 'CustServ Calls', 'Churn'],\n",
       "      dtype='object')"
      ]
     },
     "execution_count": 20,
     "metadata": {},
     "output_type": "execute_result"
    }
   ],
   "source": [
    "df.columns"
   ]
  },
  {
   "cell_type": "code",
   "execution_count": 21,
   "metadata": {},
   "outputs": [
    {
     "data": {
      "text/html": [
       "<div>\n",
       "<style scoped>\n",
       "    .dataframe tbody tr th:only-of-type {\n",
       "        vertical-align: middle;\n",
       "    }\n",
       "\n",
       "    .dataframe tbody tr th {\n",
       "        vertical-align: top;\n",
       "    }\n",
       "\n",
       "    .dataframe thead th {\n",
       "        text-align: right;\n",
       "    }\n",
       "</style>\n",
       "<table border=\"1\" class=\"dataframe\">\n",
       "  <thead>\n",
       "    <tr style=\"text-align: right;\">\n",
       "      <th></th>\n",
       "      <th>Account Length</th>\n",
       "      <th>Intl Plan</th>\n",
       "      <th>VMail Plan</th>\n",
       "      <th>VMail Message</th>\n",
       "      <th>Day Mins</th>\n",
       "      <th>Day Calls</th>\n",
       "      <th>Day Charge</th>\n",
       "      <th>Eve Mins</th>\n",
       "      <th>Eve Calls</th>\n",
       "      <th>Eve Charge</th>\n",
       "      <th>Night Mins</th>\n",
       "      <th>Night Calls</th>\n",
       "      <th>Night Charge</th>\n",
       "      <th>Intl Mins</th>\n",
       "      <th>Intl Calls</th>\n",
       "      <th>Intl Charge</th>\n",
       "      <th>CustServ Calls</th>\n",
       "      <th>Churn</th>\n",
       "    </tr>\n",
       "  </thead>\n",
       "  <tbody>\n",
       "    <tr>\n",
       "      <th>0</th>\n",
       "      <td>128</td>\n",
       "      <td>0</td>\n",
       "      <td>1</td>\n",
       "      <td>25</td>\n",
       "      <td>265.1</td>\n",
       "      <td>110</td>\n",
       "      <td>45.07</td>\n",
       "      <td>197.4</td>\n",
       "      <td>99</td>\n",
       "      <td>16.78</td>\n",
       "      <td>244.7</td>\n",
       "      <td>91</td>\n",
       "      <td>11.01</td>\n",
       "      <td>10.0</td>\n",
       "      <td>3</td>\n",
       "      <td>2.70</td>\n",
       "      <td>1</td>\n",
       "      <td>0</td>\n",
       "    </tr>\n",
       "    <tr>\n",
       "      <th>1</th>\n",
       "      <td>107</td>\n",
       "      <td>0</td>\n",
       "      <td>1</td>\n",
       "      <td>26</td>\n",
       "      <td>161.6</td>\n",
       "      <td>123</td>\n",
       "      <td>27.47</td>\n",
       "      <td>195.5</td>\n",
       "      <td>103</td>\n",
       "      <td>16.62</td>\n",
       "      <td>254.4</td>\n",
       "      <td>103</td>\n",
       "      <td>11.45</td>\n",
       "      <td>13.7</td>\n",
       "      <td>3</td>\n",
       "      <td>3.70</td>\n",
       "      <td>1</td>\n",
       "      <td>0</td>\n",
       "    </tr>\n",
       "    <tr>\n",
       "      <th>2</th>\n",
       "      <td>137</td>\n",
       "      <td>0</td>\n",
       "      <td>0</td>\n",
       "      <td>0</td>\n",
       "      <td>243.4</td>\n",
       "      <td>114</td>\n",
       "      <td>41.38</td>\n",
       "      <td>121.2</td>\n",
       "      <td>110</td>\n",
       "      <td>10.30</td>\n",
       "      <td>162.6</td>\n",
       "      <td>104</td>\n",
       "      <td>7.32</td>\n",
       "      <td>12.2</td>\n",
       "      <td>5</td>\n",
       "      <td>3.29</td>\n",
       "      <td>0</td>\n",
       "      <td>0</td>\n",
       "    </tr>\n",
       "  </tbody>\n",
       "</table>\n",
       "</div>"
      ],
      "text/plain": [
       "   Account Length  Intl Plan  VMail Plan  VMail Message  Day Mins  Day Calls  \\\n",
       "0             128          0           1             25     265.1        110   \n",
       "1             107          0           1             26     161.6        123   \n",
       "2             137          0           0              0     243.4        114   \n",
       "\n",
       "   Day Charge  Eve Mins  Eve Calls  Eve Charge  Night Mins  Night Calls  \\\n",
       "0       45.07     197.4         99       16.78       244.7           91   \n",
       "1       27.47     195.5        103       16.62       254.4          103   \n",
       "2       41.38     121.2        110       10.30       162.6          104   \n",
       "\n",
       "   Night Charge  Intl Mins  Intl Calls  Intl Charge  CustServ Calls  Churn  \n",
       "0         11.01       10.0           3         2.70               1      0  \n",
       "1         11.45       13.7           3         3.70               1      0  \n",
       "2          7.32       12.2           5         3.29               0      0  "
      ]
     },
     "execution_count": 21,
     "metadata": {},
     "output_type": "execute_result"
    }
   ],
   "source": [
    "df.head(3)"
   ]
  },
  {
   "cell_type": "code",
   "execution_count": 22,
   "metadata": {},
   "outputs": [
    {
     "data": {
      "image/png": "[encoded data removed]",
      "text/plain": [
       "<Figure size 1440x1080 with 2 Axes>"
      ]
     },
     "metadata": {
      "needs_background": "light"
     },
     "output_type": "display_data"
    }
   ],
   "source": [
    "#df.corr()\n",
    "corr = df.corr()\n",
    "sns.heatmap(corr, xticklabels=corr.columns.values, yticklabels=corr.columns.values, annot = True, annot_kws={'size':12})\n",
    "heat_map=plt.gcf()\n",
    "heat_map.set_size_inches(20,15)\n",
    "plt.xticks(fontsize=10)\n",
    "plt.yticks(fontsize=10)\n",
    "plt.show()\n"
   ]
  },
  {
   "cell_type": "code",
   "execution_count": 13,
   "metadata": {},
   "outputs": [],
   "source": [
    "X=df.drop(columns=['Churn'])\n",
    "y=df['Churn']"
   ]
  },
  {
   "cell_type": "markdown",
   "metadata": {},
   "source": [
    "Train Test split"
   ]
  },
  {
   "cell_type": "code",
   "execution_count": 16,
   "metadata": {},
   "outputs": [],
   "source": [
    "from sklearn.model_selection import train_test_split  "
   ]
  },
  {
   "cell_type": "markdown",
   "metadata": {},
   "source": [
    "Error Metric Function:"
   ]
  },
  {
   "cell_type": "code",
   "execution_count": 17,
   "metadata": {},
   "outputs": [],
   "source": [
    "from sklearn import metrics\n",
    "from sklearn.metrics import accuracy_score\n",
    "from sklearn.metrics import classification_report\n",
    "\n",
    "def error_metric(actual,predict):\n",
    "    confusion_matrix = metrics.confusion_matrix(actual,predict)\n",
    "    confusion_matrix_df = pd.DataFrame(confusion_matrix, ('No churn', 'Churn'), ('No churn', 'Churn'))\n",
    "    heatmap = sns.heatmap(confusion_matrix_df, annot=True, annot_kws={\"size\": 20}, fmt=\"d\")\n",
    "    heatmap.yaxis.set_ticklabels(heatmap.yaxis.get_ticklabels(), rotation=0, ha='right', fontsize = 14)\n",
    "    heatmap.xaxis.set_ticklabels(heatmap.xaxis.get_ticklabels(), rotation=45, ha='right', fontsize = 14)\n",
    "    plt.ylabel('True label', fontsize = 14)\n",
    "    plt.xlabel('Predicted label', fontsize = 14)\n",
    "    \n",
    "    print(\"The classification report is as follows...\\n\")\n",
    "    print(classification_report(predict,actual))\n",
    "    \n",
    "    \n",
    "    \n",
    "def accuracy(actual,predict):\n",
    "    print(\"Accuracy:\",accuracy_score(actual,predict)*100)"
   ]
  },
  {
   "cell_type": "markdown",
   "metadata": {},
   "source": [
    "Scaling Function:"
   ]
  },
  {
   "cell_type": "code",
   "execution_count": 27,
   "metadata": {},
   "outputs": [],
   "source": [
    "\n",
    "def scaling(Scaler,Data):\n",
    "    scaled_data = Scaler().fit(Data).transform(X.astype(float))\n",
    "    print(scaled_data[0:5])\n"
   ]
  },
  {
   "cell_type": "markdown",
   "metadata": {},
   "source": [
    "# Logistic Regression"
   ]
  },
  {
   "cell_type": "code",
   "execution_count": 18,
   "metadata": {},
   "outputs": [
    {
     "data": {
      "text/plain": [
       "LogisticRegression(C=1.0, class_weight=None, dual=False, fit_intercept=True,\n",
       "          intercept_scaling=1, max_iter=100, multi_class='warn',\n",
       "          n_jobs=None, penalty='l2', random_state=None, solver='warn',\n",
       "          tol=0.0001, verbose=0, warm_start=False)"
      ]
     },
     "execution_count": 18,
     "metadata": {},
     "output_type": "execute_result"
    }
   ],
   "source": [
    "from sklearn.linear_model import LogisticRegression\n",
    "X_train, X_test, y_train, y_test = train_test_split(X, y, test_size=0.2, random_state=42)\n",
    "logreg = LogisticRegression()\n",
    "logreg.fit(X_train, y_train)"
   ]
  },
  {
   "cell_type": "code",
   "execution_count": 29,
   "metadata": {},
   "outputs": [],
   "source": [
    "test_pred = logreg.predict(X_test)\n",
    "train_pred = logreg.predict(X_train)"
   ]
  },
  {
   "cell_type": "code",
   "execution_count": 30,
   "metadata": {},
   "outputs": [
    {
     "name": "stdout",
     "output_type": "stream",
     "text": [
      "The classification report is as follows...\n",
      "\n",
      "              precision    recall  f1-score   support\n",
      "\n",
      "           0       0.98      0.86      0.92       642\n",
      "           1       0.13      0.52      0.21        25\n",
      "\n",
      "   micro avg       0.85      0.85      0.85       667\n",
      "   macro avg       0.55      0.69      0.56       667\n",
      "weighted avg       0.95      0.85      0.89       667\n",
      "\n"
     ]
    },
    {
     "data": {
      "image/png": "[encoded data removed]",
      "text/plain": [
       "<Figure size 432x288 with 2 Axes>"
      ]
     },
     "metadata": {
      "needs_background": "light"
     },
     "output_type": "display_data"
    }
   ],
   "source": [
    "error_metric(y_test,test_pred)"
   ]
  },
  {
   "cell_type": "code",
   "execution_count": 31,
   "metadata": {},
   "outputs": [
    {
     "name": "stdout",
     "output_type": "stream",
     "text": [
      "The classification report is as follows...\n",
      "\n",
      "              precision    recall  f1-score   support\n",
      "\n",
      "           0       0.98      0.88      0.93      2544\n",
      "           1       0.19      0.61      0.29       122\n",
      "\n",
      "   micro avg       0.87      0.87      0.87      2666\n",
      "   macro avg       0.59      0.74      0.61      2666\n",
      "weighted avg       0.94      0.87      0.90      2666\n",
      "\n"
     ]
    },
    {
     "data": {
      "image/png": "[encoded data removed]",
      "text/plain": [
       "<Figure size 432x288 with 2 Axes>"
      ]
     },
     "metadata": {
      "needs_background": "light"
     },
     "output_type": "display_data"
    }
   ],
   "source": [
    "error_metric(y_train,train_pred)"
   ]
  },
  {
   "cell_type": "code",
   "execution_count": 32,
   "metadata": {},
   "outputs": [
    {
     "name": "stdout",
     "output_type": "stream",
     "text": [
      "Accuracy: 85.00749625187406\n"
     ]
    }
   ],
   "source": [
    "accuracy(y_test, test_pred)"
   ]
  },
  {
   "cell_type": "code",
   "execution_count": 33,
   "metadata": {},
   "outputs": [
    {
     "name": "stdout",
     "output_type": "stream",
     "text": [
      "Accuracy: 86.64666166541636\n"
     ]
    }
   ],
   "source": [
    "accuracy(y_train, train_pred)"
   ]
  },
  {
   "cell_type": "code",
   "execution_count": 34,
   "metadata": {},
   "outputs": [
    {
     "data": {
      "image/png": "[encoded data removed]",
      "text/plain": [
       "<Figure size 432x288 with 1 Axes>"
      ]
     },
     "metadata": {
      "needs_background": "light"
     },
     "output_type": "display_data"
    }
   ],
   "source": [
    "from sklearn.metrics import roc_auc_score\n",
    "from sklearn.metrics import roc_curve\n",
    "logit_roc_auc = roc_auc_score(y_test, logreg.predict(X_test))\n",
    "fpr, tpr, thresholds = roc_curve(y_test, logreg.predict_proba(X_test)[:,1])\n",
    "plt.figure()\n",
    "plt.plot(fpr, tpr, label='Logistic Regression (area = %0.2f)' % logit_roc_auc)\n",
    "plt.plot([0, 1], [0, 1],'r--')\n",
    "plt.xlim([0.0, 1.0])\n",
    "plt.ylim([0.0, 1.05])\n",
    "plt.xlabel('False Positive Rate')\n",
    "plt.ylabel('True Positive Rate')\n",
    "plt.title('Receiver operating characteristic')\n",
    "plt.legend(loc=\"lower right\")\n",
    "plt.savefig('Log_ROC')\n",
    "plt.show()"
   ]
  },
  {
   "cell_type": "markdown",
   "metadata": {},
   "source": [
    "# KNN"
   ]
  },
  {
   "cell_type": "code",
   "execution_count": 40,
   "metadata": {},
   "outputs": [
    {
     "data": {
      "text/html": [
       "<div>\n",
       "<style scoped>\n",
       "    .dataframe tbody tr th:only-of-type {\n",
       "        vertical-align: middle;\n",
       "    }\n",
       "\n",
       "    .dataframe tbody tr th {\n",
       "        vertical-align: top;\n",
       "    }\n",
       "\n",
       "    .dataframe thead th {\n",
       "        text-align: right;\n",
       "    }\n",
       "</style>\n",
       "<table border=\"1\" class=\"dataframe\">\n",
       "  <thead>\n",
       "    <tr style=\"text-align: right;\">\n",
       "      <th></th>\n",
       "      <th>Account Length</th>\n",
       "      <th>Intl Plan</th>\n",
       "      <th>VMail Plan</th>\n",
       "      <th>VMail Message</th>\n",
       "      <th>Day Mins</th>\n",
       "      <th>Day Calls</th>\n",
       "      <th>Day Charge</th>\n",
       "      <th>Eve Mins</th>\n",
       "      <th>Eve Calls</th>\n",
       "      <th>Eve Charge</th>\n",
       "      <th>Night Mins</th>\n",
       "      <th>Night Calls</th>\n",
       "      <th>Night Charge</th>\n",
       "      <th>Intl Mins</th>\n",
       "      <th>Intl Calls</th>\n",
       "      <th>Intl Charge</th>\n",
       "      <th>CustServ Calls</th>\n",
       "    </tr>\n",
       "  </thead>\n",
       "  <tbody>\n",
       "    <tr>\n",
       "      <th>0</th>\n",
       "      <td>128</td>\n",
       "      <td>0</td>\n",
       "      <td>1</td>\n",
       "      <td>25</td>\n",
       "      <td>265.1</td>\n",
       "      <td>110</td>\n",
       "      <td>45.07</td>\n",
       "      <td>197.4</td>\n",
       "      <td>99</td>\n",
       "      <td>16.78</td>\n",
       "      <td>244.7</td>\n",
       "      <td>91</td>\n",
       "      <td>11.01</td>\n",
       "      <td>10.0</td>\n",
       "      <td>3</td>\n",
       "      <td>2.70</td>\n",
       "      <td>1</td>\n",
       "    </tr>\n",
       "    <tr>\n",
       "      <th>1</th>\n",
       "      <td>107</td>\n",
       "      <td>0</td>\n",
       "      <td>1</td>\n",
       "      <td>26</td>\n",
       "      <td>161.6</td>\n",
       "      <td>123</td>\n",
       "      <td>27.47</td>\n",
       "      <td>195.5</td>\n",
       "      <td>103</td>\n",
       "      <td>16.62</td>\n",
       "      <td>254.4</td>\n",
       "      <td>103</td>\n",
       "      <td>11.45</td>\n",
       "      <td>13.7</td>\n",
       "      <td>3</td>\n",
       "      <td>3.70</td>\n",
       "      <td>1</td>\n",
       "    </tr>\n",
       "    <tr>\n",
       "      <th>2</th>\n",
       "      <td>137</td>\n",
       "      <td>0</td>\n",
       "      <td>0</td>\n",
       "      <td>0</td>\n",
       "      <td>243.4</td>\n",
       "      <td>114</td>\n",
       "      <td>41.38</td>\n",
       "      <td>121.2</td>\n",
       "      <td>110</td>\n",
       "      <td>10.30</td>\n",
       "      <td>162.6</td>\n",
       "      <td>104</td>\n",
       "      <td>7.32</td>\n",
       "      <td>12.2</td>\n",
       "      <td>5</td>\n",
       "      <td>3.29</td>\n",
       "      <td>0</td>\n",
       "    </tr>\n",
       "    <tr>\n",
       "      <th>3</th>\n",
       "      <td>84</td>\n",
       "      <td>1</td>\n",
       "      <td>0</td>\n",
       "      <td>0</td>\n",
       "      <td>299.4</td>\n",
       "      <td>71</td>\n",
       "      <td>50.90</td>\n",
       "      <td>61.9</td>\n",
       "      <td>88</td>\n",
       "      <td>5.26</td>\n",
       "      <td>196.9</td>\n",
       "      <td>89</td>\n",
       "      <td>8.86</td>\n",
       "      <td>6.6</td>\n",
       "      <td>7</td>\n",
       "      <td>1.78</td>\n",
       "      <td>2</td>\n",
       "    </tr>\n",
       "    <tr>\n",
       "      <th>4</th>\n",
       "      <td>75</td>\n",
       "      <td>1</td>\n",
       "      <td>0</td>\n",
       "      <td>0</td>\n",
       "      <td>166.7</td>\n",
       "      <td>113</td>\n",
       "      <td>28.34</td>\n",
       "      <td>148.3</td>\n",
       "      <td>122</td>\n",
       "      <td>12.61</td>\n",
       "      <td>186.9</td>\n",
       "      <td>121</td>\n",
       "      <td>8.41</td>\n",
       "      <td>10.1</td>\n",
       "      <td>3</td>\n",
       "      <td>2.73</td>\n",
       "      <td>3</td>\n",
       "    </tr>\n",
       "  </tbody>\n",
       "</table>\n",
       "</div>"
      ],
      "text/plain": [
       "   Account Length  Intl Plan  VMail Plan  VMail Message  Day Mins  Day Calls  \\\n",
       "0             128          0           1             25     265.1        110   \n",
       "1             107          0           1             26     161.6        123   \n",
       "2             137          0           0              0     243.4        114   \n",
       "3              84          1           0              0     299.4         71   \n",
       "4              75          1           0              0     166.7        113   \n",
       "\n",
       "   Day Charge  Eve Mins  Eve Calls  Eve Charge  Night Mins  Night Calls  \\\n",
       "0       45.07     197.4         99       16.78       244.7           91   \n",
       "1       27.47     195.5        103       16.62       254.4          103   \n",
       "2       41.38     121.2        110       10.30       162.6          104   \n",
       "3       50.90      61.9         88        5.26       196.9           89   \n",
       "4       28.34     148.3        122       12.61       186.9          121   \n",
       "\n",
       "   Night Charge  Intl Mins  Intl Calls  Intl Charge  CustServ Calls  \n",
       "0         11.01       10.0           3         2.70               1  \n",
       "1         11.45       13.7           3         3.70               1  \n",
       "2          7.32       12.2           5         3.29               0  \n",
       "3          8.86        6.6           7         1.78               2  \n",
       "4          8.41       10.1           3         2.73               3  "
      ]
     },
     "execution_count": 40,
     "metadata": {},
     "output_type": "execute_result"
    }
   ],
   "source": [
    "X[0:5]"
   ]
  },
  {
   "cell_type": "code",
   "execution_count": 35,
   "metadata": {},
   "outputs": [
    {
     "data": {
      "text/plain": [
       "array([[ 0.67648946, -0.32758048,  1.6170861 ,  1.23488274,  1.56676695,\n",
       "         0.47664315,  1.56703625, -0.07060962, -0.05594035, -0.07042665,\n",
       "         0.86674322, -0.46549436,  0.86602851, -0.08500823, -0.60119509,\n",
       "        -0.0856905 , -0.42793202],\n",
       "       [ 0.14906505, -0.32758048,  1.6170861 ,  1.30794844, -0.33373776,\n",
       "         1.12450284, -0.33401297, -0.10808036,  0.14486653, -0.10754944,\n",
       "         1.05857074,  0.14782467,  1.05938994,  1.24048169, -0.60119509,\n",
       "         1.2411686 , -0.42793202],\n",
       "       [ 0.9025285 , -0.32758048, -0.61839626, -0.59175986,  1.16830364,\n",
       "         0.67598459,  1.168464  , -1.57338336,  0.49627857, -1.57389963,\n",
       "        -0.75686906,  0.19893459, -0.75557074,  0.70312091,  0.21153386,\n",
       "         0.69715637, -1.1882185 ],\n",
       "       [-0.42859027,  3.05268496, -0.61839626, -0.59175986,  2.19659605,\n",
       "        -1.46693591,  2.19675881, -2.74286476, -0.60815927, -2.7432675 ,\n",
       "        -0.07855114, -0.5677142 , -0.07880574, -1.30302599,  1.02426282,\n",
       "        -1.30640087,  0.33235445],\n",
       "       [-0.6546293 ,  3.05268496, -0.61839626, -0.59175986, -0.24008971,\n",
       "         0.62614923, -0.24004065, -1.03893233,  1.0986992 , -1.03793936,\n",
       "        -0.27631146,  1.06780322, -0.27656174, -0.04918418, -0.60119509,\n",
       "        -0.04588472,  1.09264093]])"
      ]
     },
     "execution_count": 35,
     "metadata": {},
     "output_type": "execute_result"
    }
   ],
   "source": [
    "from sklearn.preprocessing import StandardScaler\n",
    "scaled_data = StandardScaler().fit(X).transform(X.astype(float))\n",
    "scaled_data[0:5]"
   ]
  },
  {
   "cell_type": "code",
   "execution_count": 36,
   "metadata": {},
   "outputs": [
    {
     "data": {
      "text/plain": [
       "KNeighborsClassifier(algorithm='auto', leaf_size=30, metric='minkowski',\n",
       "           metric_params=None, n_jobs=None, n_neighbors=5, p=2,\n",
       "           weights='uniform')"
      ]
     },
     "execution_count": 36,
     "metadata": {},
     "output_type": "execute_result"
    }
   ],
   "source": [
    "from sklearn.neighbors import KNeighborsClassifier\n",
    "k = 5\n",
    "X_train, X_test, y_train, y_test = train_test_split(scaled_data, y, test_size=0.2, random_state=42)\n",
    "neigh = KNeighborsClassifier(n_neighbors = k).fit(X_train,y_train)\n",
    "neigh"
   ]
  },
  {
   "cell_type": "code",
   "execution_count": 37,
   "metadata": {},
   "outputs": [],
   "source": [
    "test_pred = neigh.predict(X_test)\n",
    "train_pred = neigh.predict(X_train)"
   ]
  },
  {
   "cell_type": "code",
   "execution_count": 38,
   "metadata": {},
   "outputs": [
    {
     "name": "stdout",
     "output_type": "stream",
     "text": [
      "Accuracy: 92.16054013503377\n"
     ]
    }
   ],
   "source": [
    "accuracy(y_train, train_pred)"
   ]
  },
  {
   "cell_type": "code",
   "execution_count": 39,
   "metadata": {},
   "outputs": [
    {
     "name": "stdout",
     "output_type": "stream",
     "text": [
      "Accuracy: 89.65517241379311\n"
     ]
    }
   ],
   "source": [
    "accuracy(y_test, test_pred)"
   ]
  },
  {
   "cell_type": "markdown",
   "metadata": {},
   "source": [
    "Find optimal K value"
   ]
  },
  {
   "cell_type": "code",
   "execution_count": 40,
   "metadata": {},
   "outputs": [
    {
     "data": {
      "text/plain": [
       "58"
      ]
     },
     "execution_count": 40,
     "metadata": {},
     "output_type": "execute_result"
    }
   ],
   "source": [
    "from math import sqrt\n",
    "length = round(sqrt(df.shape[0]))\n",
    "length"
   ]
  },
  {
   "cell_type": "code",
   "execution_count": 41,
   "metadata": {},
   "outputs": [
    {
     "name": "stdout",
     "output_type": "stream",
     "text": [
      "Test Data Accuracy for k = 1 is 87.70614692653673\n",
      "Test Data Accuracy for k = 2 is 87.40629685157421\n",
      "Test Data Accuracy for k = 3 is 88.9055472263868\n",
      "Test Data Accuracy for k = 4 is 88.1559220389805\n",
      "Test Data Accuracy for k = 5 is 89.65517241379311\n",
      "Test Data Accuracy for k = 6 is 88.1559220389805\n",
      "Test Data Accuracy for k = 7 is 88.75562218890555\n",
      "Test Data Accuracy for k = 8 is 88.6056971514243\n",
      "Test Data Accuracy for k = 9 is 88.9055472263868\n",
      "Test Data Accuracy for k = 10 is 87.55622188905548\n",
      "Test Data Accuracy for k = 11 is 88.6056971514243\n",
      "Test Data Accuracy for k = 12 is 88.1559220389805\n",
      "Test Data Accuracy for k = 13 is 88.45577211394303\n",
      "Test Data Accuracy for k = 14 is 88.30584707646177\n",
      "Test Data Accuracy for k = 15 is 88.1559220389805\n",
      "Test Data Accuracy for k = 16 is 87.25637181409296\n",
      "Test Data Accuracy for k = 17 is 88.00599700149925\n",
      "Test Data Accuracy for k = 18 is 87.40629685157421\n",
      "Test Data Accuracy for k = 19 is 87.70614692653673\n",
      "Test Data Accuracy for k = 20 is 87.40629685157421\n",
      "Test Data Accuracy for k = 21 is 87.55622188905548\n",
      "Test Data Accuracy for k = 22 is 87.25637181409296\n",
      "Test Data Accuracy for k = 23 is 87.40629685157421\n",
      "Test Data Accuracy for k = 24 is 87.40629685157421\n",
      "Test Data Accuracy for k = 25 is 87.40629685157421\n",
      "Test Data Accuracy for k = 26 is 87.55622188905548\n",
      "Test Data Accuracy for k = 27 is 87.55622188905548\n",
      "Test Data Accuracy for k = 28 is 87.25637181409296\n",
      "Test Data Accuracy for k = 29 is 87.40629685157421\n",
      "Test Data Accuracy for k = 30 is 87.25637181409296\n",
      "Test Data Accuracy for k = 31 is 87.55622188905548\n",
      "Test Data Accuracy for k = 32 is 87.55622188905548\n",
      "Test Data Accuracy for k = 33 is 87.55622188905548\n",
      "Test Data Accuracy for k = 34 is 87.40629685157421\n",
      "Test Data Accuracy for k = 35 is 87.70614692653673\n",
      "Test Data Accuracy for k = 36 is 86.80659670164917\n",
      "Test Data Accuracy for k = 37 is 87.10644677661169\n",
      "Test Data Accuracy for k = 38 is 86.80659670164917\n",
      "Test Data Accuracy for k = 39 is 86.95652173913044\n",
      "Test Data Accuracy for k = 40 is 86.50674662668666\n",
      "Test Data Accuracy for k = 41 is 86.65667166416792\n",
      "Test Data Accuracy for k = 42 is 86.3568215892054\n",
      "Test Data Accuracy for k = 43 is 86.3568215892054\n",
      "Test Data Accuracy for k = 44 is 86.3568215892054\n",
      "Test Data Accuracy for k = 45 is 86.3568215892054\n",
      "Test Data Accuracy for k = 46 is 86.20689655172413\n",
      "Test Data Accuracy for k = 47 is 86.20689655172413\n",
      "Test Data Accuracy for k = 48 is 86.20689655172413\n",
      "Test Data Accuracy for k = 49 is 86.20689655172413\n",
      "Test Data Accuracy for k = 50 is 85.6071964017991\n",
      "Test Data Accuracy for k = 51 is 85.90704647676162\n",
      "Test Data Accuracy for k = 52 is 85.75712143928035\n",
      "Test Data Accuracy for k = 53 is 85.90704647676162\n",
      "Test Data Accuracy for k = 54 is 85.75712143928035\n",
      "Test Data Accuracy for k = 55 is 85.90704647676162\n",
      "Test Data Accuracy for k = 56 is 85.75712143928035\n",
      "Test Data Accuracy for k = 57 is 85.90704647676162\n",
      "Test Data Accuracy for k = 58 is 85.75712143928035\n"
     ]
    }
   ],
   "source": [
    "kvalue_dict = {}\n",
    "kvalue_list = []\n",
    "for k in range(1,length+1):\n",
    "    model = KNeighborsClassifier(n_neighbors = k).fit(X_train,y_train)\n",
    "    test_predict = model.predict(X_test)\n",
    "    accur = accuracy_score(y_test, test_predict)*100\n",
    "    kvalue_dict.update({k:accur})\n",
    "    kvalue_list.append(accur)\n",
    "    print(\"Test Data Accuracy for k = {} is {}\" .format(k,accur))"
   ]
  },
  {
   "cell_type": "code",
   "execution_count": 42,
   "metadata": {},
   "outputs": [
    {
     "name": "stdout",
     "output_type": "stream",
     "text": [
      "The Accuracy value is  89.65517241379311 with k=  5\n"
     ]
    }
   ],
   "source": [
    "key_max = max(kvalue_dict.keys(), key=(lambda k: kvalue_dict[k]))\n",
    "\n",
    "print( \"The Accuracy value is \",kvalue_dict[key_max], \"with k= \", key_max)"
   ]
  },
  {
   "cell_type": "code",
   "execution_count": 43,
   "metadata": {},
   "outputs": [
    {
     "data": {
      "text/plain": [
       "<matplotlib.axes._subplots.AxesSubplot at 0x17faf727438>"
      ]
     },
     "execution_count": 43,
     "metadata": {},
     "output_type": "execute_result"
    },
    {
     "data": {
      "image/png": "[encoded data removed]",
      "text/plain": [
       "<Figure size 432x288 with 1 Axes>"
      ]
     },
     "metadata": {
      "needs_background": "light"
     },
     "output_type": "display_data"
    }
   ],
   "source": [
    "elbow_curve = pd.DataFrame(kvalue_list,columns = ['accuracy'])\n",
    "elbow_curve.plot()"
   ]
  },
  {
   "cell_type": "code",
   "execution_count": 44,
   "metadata": {},
   "outputs": [
    {
     "data": {
      "text/plain": [
       "KNeighborsClassifier(algorithm='auto', leaf_size=30, metric='minkowski',\n",
       "           metric_params=None, n_jobs=None, n_neighbors=5, p=2,\n",
       "           weights='uniform')"
      ]
     },
     "execution_count": 44,
     "metadata": {},
     "output_type": "execute_result"
    }
   ],
   "source": [
    "k = 5\n",
    "X_train, X_test, y_train, y_test = train_test_split(scaled_data, y, test_size=0.2, random_state=42)\n",
    "neigh = KNeighborsClassifier(n_neighbors = k).fit(X_train,y_train)\n",
    "neigh"
   ]
  },
  {
   "cell_type": "code",
   "execution_count": 46,
   "metadata": {},
   "outputs": [],
   "source": [
    "test_pred = neigh.predict(X_test)\n",
    "train_pred = neigh.predict(X_train)"
   ]
  },
  {
   "cell_type": "code",
   "execution_count": 47,
   "metadata": {},
   "outputs": [
    {
     "name": "stdout",
     "output_type": "stream",
     "text": [
      "The classification report is as follows...\n",
      "\n",
      "              precision    recall  f1-score   support\n",
      "\n",
      "           0       0.99      0.90      0.94       623\n",
      "           1       0.38      0.86      0.52        44\n",
      "\n",
      "   micro avg       0.90      0.90      0.90       667\n",
      "   macro avg       0.68      0.88      0.73       667\n",
      "weighted avg       0.95      0.90      0.91       667\n",
      "\n"
     ]
    },
    {
     "data": {
      "image/png": "[encoded data removed]",
      "text/plain": [
       "<Figure size 432x288 with 2 Axes>"
      ]
     },
     "metadata": {
      "needs_background": "light"
     },
     "output_type": "display_data"
    }
   ],
   "source": [
    "error_metric(y_test,test_pred)"
   ]
  },
  {
   "cell_type": "code",
   "execution_count": 48,
   "metadata": {},
   "outputs": [
    {
     "name": "stdout",
     "output_type": "stream",
     "text": [
      "The classification report is as follows...\n",
      "\n",
      "              precision    recall  f1-score   support\n",
      "\n",
      "           0       0.99      0.92      0.96      2455\n",
      "           1       0.50      0.91      0.65       211\n",
      "\n",
      "   micro avg       0.92      0.92      0.92      2666\n",
      "   macro avg       0.75      0.92      0.80      2666\n",
      "weighted avg       0.95      0.92      0.93      2666\n",
      "\n"
     ]
    },
    {
     "data": {
      "image/png": "[encoded data removed]",
      "text/plain": [
       "<Figure size 432x288 with 2 Axes>"
      ]
     },
     "metadata": {
      "needs_background": "light"
     },
     "output_type": "display_data"
    }
   ],
   "source": [
    "error_metric(y_train,train_pred)"
   ]
  },
  {
   "cell_type": "code",
   "execution_count": 49,
   "metadata": {},
   "outputs": [
    {
     "name": "stdout",
     "output_type": "stream",
     "text": [
      "Accuracy: 92.16054013503377\n"
     ]
    }
   ],
   "source": [
    "accuracy(y_train, train_pred)"
   ]
  },
  {
   "cell_type": "code",
   "execution_count": 50,
   "metadata": {},
   "outputs": [
    {
     "name": "stdout",
     "output_type": "stream",
     "text": [
      "Accuracy: 89.65517241379311\n"
     ]
    }
   ],
   "source": [
    "accuracy(y_test, test_pred)"
   ]
  },
  {
   "cell_type": "markdown",
   "metadata": {},
   "source": [
    "# Naive Bayes"
   ]
  },
  {
   "cell_type": "code",
   "execution_count": 133,
   "metadata": {},
   "outputs": [],
   "source": [
    "from sklearn.naive_bayes import GaussianNB"
   ]
  },
  {
   "cell_type": "code",
   "execution_count": 134,
   "metadata": {},
   "outputs": [],
   "source": [
    "nbc = GaussianNB()"
   ]
  },
  {
   "cell_type": "code",
   "execution_count": 135,
   "metadata": {},
   "outputs": [
    {
     "data": {
      "text/plain": [
       "GaussianNB(priors=None, var_smoothing=1e-09)"
      ]
     },
     "execution_count": 135,
     "metadata": {},
     "output_type": "execute_result"
    }
   ],
   "source": [
    "nbc.fit(X_train,y_train)"
   ]
  },
  {
   "cell_type": "code",
   "execution_count": 140,
   "metadata": {},
   "outputs": [],
   "source": [
    "test_pred = nbc.predict(X_test)\n"
   ]
  },
  {
   "cell_type": "code",
   "execution_count": 141,
   "metadata": {},
   "outputs": [],
   "source": [
    "train_pred = nbc.predict(X_train)\n"
   ]
  },
  {
   "cell_type": "code",
   "execution_count": 142,
   "metadata": {},
   "outputs": [
    {
     "name": "stdout",
     "output_type": "stream",
     "text": [
      "The classification report is as follows...\n",
      "\n",
      "              precision    recall  f1-score   support\n",
      "\n",
      "           0       0.92      0.92      0.92      2273\n",
      "           1       0.55      0.53      0.54       393\n",
      "\n",
      "   micro avg       0.87      0.87      0.87      2666\n",
      "   macro avg       0.73      0.73      0.73      2666\n",
      "weighted avg       0.87      0.87      0.87      2666\n",
      "\n"
     ]
    },
    {
     "data": {
      "image/png": "[encoded data removed]",
      "text/plain": [
       "<Figure size 432x288 with 2 Axes>"
      ]
     },
     "metadata": {
      "needs_background": "light"
     },
     "output_type": "display_data"
    }
   ],
   "source": [
    "error_metric(y_train,train_pred)"
   ]
  },
  {
   "cell_type": "code",
   "execution_count": 145,
   "metadata": {},
   "outputs": [
    {
     "name": "stdout",
     "output_type": "stream",
     "text": [
      "The classification report is as follows...\n",
      "\n",
      "              precision    recall  f1-score   support\n",
      "\n",
      "           0       0.92      0.91      0.91       575\n",
      "           1       0.48      0.52      0.50        92\n",
      "\n",
      "   micro avg       0.85      0.85      0.85       667\n",
      "   macro avg       0.70      0.71      0.71       667\n",
      "weighted avg       0.86      0.85      0.86       667\n",
      "\n"
     ]
    },
    {
     "data": {
      "image/png": "[encoded data removed]",
      "text/plain": [
       "<Figure size 432x288 with 2 Axes>"
      ]
     },
     "metadata": {
      "needs_background": "light"
     },
     "output_type": "display_data"
    }
   ],
   "source": [
    "error_metric(y_test,test_pred)"
   ]
  },
  {
   "cell_type": "code",
   "execution_count": 143,
   "metadata": {},
   "outputs": [
    {
     "name": "stdout",
     "output_type": "stream",
     "text": [
      "Accuracy: 86.6841710427607\n"
     ]
    }
   ],
   "source": [
    "accuracy(y_train, train_pred)"
   ]
  },
  {
   "cell_type": "code",
   "execution_count": 144,
   "metadata": {},
   "outputs": [
    {
     "name": "stdout",
     "output_type": "stream",
     "text": [
      "Accuracy: 85.45727136431785\n"
     ]
    }
   ],
   "source": [
    "accuracy(y_test, test_pred)"
   ]
  },
  {
   "cell_type": "markdown",
   "metadata": {},
   "source": [
    "# Decision Tree"
   ]
  },
  {
   "cell_type": "code",
   "execution_count": 61,
   "metadata": {},
   "outputs": [
    {
     "name": "stdout",
     "output_type": "stream",
     "text": [
      "Test Data Accuracy : 91.75412293853074\n",
      "Train Data Accuracy : 100.0\n"
     ]
    }
   ],
   "source": [
    "from sklearn.tree import DecisionTreeClassifier\n",
    "dt = DecisionTreeClassifier()\n",
    "dt.fit(X_train, y_train)\n",
    "test_pred = dt.predict(X_test)\n",
    "train_pred = dt.predict(X_train)\n",
    "print('Test Data Accuracy :',accuracy_score(y_test, test_pred)*100)\n",
    "print('Train Data Accuracy :',accuracy_score(y_train, train_pred)*100)"
   ]
  },
  {
   "cell_type": "markdown",
   "metadata": {},
   "source": [
    "# Tuning"
   ]
  },
  {
   "cell_type": "code",
   "execution_count": 150,
   "metadata": {},
   "outputs": [],
   "source": [
    "def fit_predict(train, test, y_train, y_test, scaler, max_depth, \n",
    "                criterion = 'entropy', max_features = 1, min_samples_split = 4):\n",
    "    train_scaled = scaler.fit_transform(train)\n",
    "    test_scaled = scaler.transform(test)        \n",
    "    dt = DecisionTreeClassifier(criterion = criterion, max_depth=max_depth, \n",
    "                                 max_features=max_features,\n",
    "                               min_samples_split=min_samples_split)\n",
    "    dt.fit(train_scaled, y_train)\n",
    "    test_pred = dt.predict(test_scaled)\n",
    "    train_pred = dt.predict(train_scaled)\n",
    "    print('Test Data Accuracy :', accuracy_score(y_test, test_pred)*100)\n",
    "    print('Train Data Accuracy :', accuracy_score(y_train, train_pred)*100)\n",
    "    "
   ]
  },
  {
   "cell_type": "markdown",
   "metadata": {},
   "source": [
    "Max depth"
   ]
  },
  {
   "cell_type": "code",
   "execution_count": 63,
   "metadata": {},
   "outputs": [
    {
     "name": "stdout",
     "output_type": "stream",
     "text": [
      "max_depth = 1\n",
      " Test Data Accuracy : 84.8575712143928\n",
      "max_depth = 2\n",
      " Test Data Accuracy : 84.8575712143928\n",
      "max_depth = 3\n",
      " Test Data Accuracy : 84.8575712143928\n",
      "max_depth = 4\n",
      " Test Data Accuracy : 88.30584707646177\n",
      "max_depth = 5\n",
      " Test Data Accuracy : 88.00599700149925\n",
      "max_depth = 6\n",
      " Test Data Accuracy : 87.25637181409296\n",
      "max_depth = 7\n",
      " Test Data Accuracy : 84.70764617691154\n",
      "max_depth = 8\n",
      " Test Data Accuracy : 86.95652173913044\n",
      "max_depth = 9\n",
      " Test Data Accuracy : 85.45727136431785\n",
      "max_depth = 10\n",
      " Test Data Accuracy : 87.25637181409296\n",
      "max_depth = 11\n",
      " Test Data Accuracy : 85.90704647676162\n",
      "max_depth = 12\n",
      " Test Data Accuracy : 85.00749625187406\n",
      "max_depth = 13\n",
      " Test Data Accuracy : 85.75712143928035\n",
      "max_depth = 14\n",
      " Test Data Accuracy : 86.05697151424287\n",
      "max_depth = 15\n",
      " Test Data Accuracy : 84.55772113943029\n",
      "max_depth = 16\n",
      " Test Data Accuracy : 86.20689655172413\n",
      "max_depth = 17\n",
      " Test Data Accuracy : 82.15892053973015\n",
      "max_depth = 18\n",
      " Test Data Accuracy : 82.00899550224887\n",
      "max_depth = 19\n",
      " Test Data Accuracy : 85.6071964017991\n"
     ]
    }
   ],
   "source": [
    "for i in range(1, 20):\n",
    "    print('max_depth =', i, end = '\\n ')\n",
    "    fit_predict(X_train, X_test, y_train, y_test, StandardScaler(), i)"
   ]
  },
  {
   "cell_type": "markdown",
   "metadata": {},
   "source": [
    "Max Features"
   ]
  },
  {
   "cell_type": "code",
   "execution_count": 151,
   "metadata": {},
   "outputs": [
    {
     "name": "stdout",
     "output_type": "stream",
     "text": [
      "max features = 0.1\n",
      " Test Data Accuracy : 88.6056971514243\n",
      "Train Data Accuracy : 92.6106526631658\n",
      "max features = 0.2\n",
      " Test Data Accuracy : 88.45577211394303\n",
      "Train Data Accuracy : 96.0615153788447\n",
      "max features = 0.30000000000000004\n",
      " Test Data Accuracy : 90.55472263868066\n",
      "Train Data Accuracy : 96.28657164291073\n",
      "max features = 0.4\n",
      " Test Data Accuracy : 90.10494752623688\n",
      "Train Data Accuracy : 96.43660915228807\n",
      "max features = 0.5\n",
      " Test Data Accuracy : 93.25337331334332\n",
      "Train Data Accuracy : 97.59939984996248\n",
      "max features = 0.6\n",
      " Test Data Accuracy : 92.35382308845578\n",
      "Train Data Accuracy : 97.78694673668417\n",
      "max features = 0.7000000000000001\n",
      " Test Data Accuracy : 93.55322338830585\n",
      "Train Data Accuracy : 97.37434358589647\n",
      "max features = 0.8\n",
      " Test Data Accuracy : 93.55322338830585\n",
      "Train Data Accuracy : 97.89947486871718\n",
      "max features = 0.9\n",
      " Test Data Accuracy : 94.00299850074963\n",
      "Train Data Accuracy : 97.93698424606151\n"
     ]
    }
   ],
   "source": [
    "for i in np.arange(0.1, 1.0, 0.1):\n",
    "    print('max features =', i, end = '\\n ')\n",
    "    fit_predict(X_train, X_test, y_train, y_test, StandardScaler(), max_depth = 9, max_features=i)"
   ]
  },
  {
   "cell_type": "markdown",
   "metadata": {},
   "source": [
    "Min samples split"
   ]
  },
  {
   "cell_type": "code",
   "execution_count": 152,
   "metadata": {},
   "outputs": [
    {
     "name": "stdout",
     "output_type": "stream",
     "text": [
      "min samples split = 2\n",
      " Test Data Accuracy : 93.25337331334332\n",
      "Train Data Accuracy : 97.93698424606151\n",
      "min samples split = 3\n",
      " Test Data Accuracy : 93.25337331334332\n",
      "Train Data Accuracy : 97.22430607651913\n",
      "min samples split = 4\n",
      " Test Data Accuracy : 93.4032983508246\n",
      "Train Data Accuracy : 97.33683420855213\n",
      "min samples split = 5\n",
      " Test Data Accuracy : 92.05397301349325\n",
      "Train Data Accuracy : 97.03675918979745\n",
      "min samples split = 6\n",
      " Test Data Accuracy : 92.50374812593704\n",
      "Train Data Accuracy : 97.37434358589647\n",
      "min samples split = 7\n",
      " Test Data Accuracy : 92.65367316341829\n",
      "Train Data Accuracy : 97.07426856714179\n",
      "min samples split = 8\n",
      " Test Data Accuracy : 94.15292353823088\n",
      "Train Data Accuracy : 96.99924981245312\n",
      "min samples split = 9\n",
      " Test Data Accuracy : 93.55322338830585\n",
      "Train Data Accuracy : 96.92423105776444\n"
     ]
    }
   ],
   "source": [
    "for i in range(2, 10):\n",
    "    print('min samples split =', i, end = '\\n ')\n",
    "    fit_predict(X_train, X_test, y_train, y_test, StandardScaler(), 9, max_features=0.5, min_samples_split=i)"
   ]
  },
  {
   "cell_type": "markdown",
   "metadata": {},
   "source": [
    "Criterion Tuning"
   ]
  },
  {
   "cell_type": "code",
   "execution_count": 153,
   "metadata": {},
   "outputs": [
    {
     "name": "stdout",
     "output_type": "stream",
     "text": [
      "criterion = gini\n",
      " Test Data Accuracy : 92.95352323838081\n",
      "Train Data Accuracy : 97.52438109527381\n",
      "criterion = entropy\n",
      " Test Data Accuracy : 93.55322338830585\n",
      "Train Data Accuracy : 97.37434358589647\n"
     ]
    }
   ],
   "source": [
    "for i in ['gini', 'entropy']:\n",
    "    print('criterion =', i, end = '\\n ')\n",
    "    fit_predict(X_train, X_test, y_train, y_test, StandardScaler(), 9, \n",
    "                max_features=0.5, min_samples_split=4, criterion = i)"
   ]
  },
  {
   "cell_type": "markdown",
   "metadata": {},
   "source": [
    "Better parameter values after Tuning"
   ]
  },
  {
   "cell_type": "code",
   "execution_count": 154,
   "metadata": {},
   "outputs": [
    {
     "name": "stdout",
     "output_type": "stream",
     "text": [
      "Test Data Accuracy : 93.7031484257871\n",
      "Train Data Accuracy : 97.63690922730682\n"
     ]
    }
   ],
   "source": [
    "fit_predict(X_train, X_test, y_train, y_test, StandardScaler(), 9, \n",
    "                max_features=0.5, min_samples_split=4, criterion = 'entropy')"
   ]
  },
  {
   "cell_type": "markdown",
   "metadata": {},
   "source": [
    "# Random Forest"
   ]
  },
  {
   "cell_type": "code",
   "execution_count": 20,
   "metadata": {},
   "outputs": [
    {
     "name": "stdout",
     "output_type": "stream",
     "text": [
      "Test Accuracy :  94.45277361319341\n",
      "Train Accuracy :  99.36234058514628\n"
     ]
    }
   ],
   "source": [
    "from sklearn.ensemble import RandomForestClassifier\n",
    "RF = RandomForestClassifier(n_estimators = 10, max_depth=None, \n",
    "                                random_state = 42, max_features = 'auto',\n",
    "                               min_samples_split = 2)\n",
    "RF.fit(X_train, y_train)\n",
    "test_pred = RF.predict(X_test)\n",
    "train_pred = RF.predict(X_train)\n",
    "print(\"Test Accuracy : \",accuracy_score(y_test, test_pred)*100)\n",
    "print(\"Train Accuracy : \",accuracy_score(y_train, train_pred)*100)"
   ]
  },
  {
   "cell_type": "code",
   "execution_count": null,
   "metadata": {},
   "outputs": [],
   "source": [
    "from sklearn.model_selection import GridSearchCV\n",
    "from sklearn.model_selection import GridSearchCV\n",
    "\n",
    "param_grid = [\n",
    "{'n_estimators': [1,5,10,15,20,25,30], 'max_features': [0.1, 0.2, 0.3, 0.4, 0.5, 0.6, 0.7, 0.8, 0.9, 1. ], \n",
    " 'min_samples_leaf': [1, 3, 5, 10, 25], 'bootstrap': [True, False]}\n",
    "]\n",
    "\n",
    "forest = RandomForestClassifier(n_jobs=-1)\n",
    "\n",
    "grid_search_forest = GridSearchCV(forest, param_grid, cv=10, scoring='accuracy')\n",
    "grid_search_forest.fit(X_train, y_train)"
   ]
  },
  {
   "cell_type": "code",
   "execution_count": 71,
   "metadata": {},
   "outputs": [
    {
     "name": "stdout",
     "output_type": "stream",
     "text": [
      "{'bootstrap': True, 'max_features': 0.4, 'min_samples_leaf': 1, 'n_estimators': 15}\n"
     ]
    }
   ],
   "source": [
    "# Best Parameters from Tuning\n",
    "print(grid_search_forest.best_params_)"
   ]
  },
  {
   "cell_type": "code",
   "execution_count": 72,
   "metadata": {},
   "outputs": [
    {
     "name": "stdout",
     "output_type": "stream",
     "text": [
      "[0.02293303 0.09149316 0.02185765 0.03121257 0.15391713 0.02830562\n",
      " 0.11170988 0.07626862 0.0231241  0.0611932  0.03151649 0.02377608\n",
      " 0.03038769 0.04185298 0.07456246 0.04959264 0.12629668]\n"
     ]
    }
   ],
   "source": [
    "# Finding Best Features from Tuning\n",
    "print(grid_search_forest.best_estimator_.feature_importances_)"
   ]
  },
  {
   "cell_type": "code",
   "execution_count": 155,
   "metadata": {},
   "outputs": [
    {
     "name": "stdout",
     "output_type": "stream",
     "text": [
      "Test Accuracy :  95.35232383808095\n",
      "Train Accuracy :  99.77494373593399\n"
     ]
    }
   ],
   "source": [
    "#Fit the model after finding best parameters      \n",
    "RF = RandomForestClassifier(n_estimators = 30, max_depth=None, \n",
    "                                random_state = 42, max_features = 0.5,\n",
    "                               min_samples_leaf = 1,bootstrap = True)\n",
    "RF.fit(X_train, y_train)\n",
    "test_pred = RF.predict(X_test)\n",
    "train_pred = RF.predict(X_train)\n",
    "print(\"Test Accuracy : \",accuracy_score(y_test, test_pred)*100)\n",
    "print(\"Train Accuracy : \",accuracy_score(y_train, train_pred)*100)"
   ]
  },
  {
   "cell_type": "markdown",
   "metadata": {},
   "source": [
    "# Boosting"
   ]
  },
  {
   "cell_type": "code",
   "execution_count": 63,
   "metadata": {},
   "outputs": [
    {
     "name": "stdout",
     "output_type": "stream",
     "text": [
      "\n",
      "AdaBoost  - Train accuracy: 90.28507126781695\n",
      "\n",
      "AdaBoost  - Test accuracy: 87.40629685157421\n"
     ]
    }
   ],
   "source": [
    "from sklearn.ensemble import AdaBoostClassifier\n",
    "dtree = DecisionTreeClassifier(criterion='gini',max_depth=1)\n",
    "\n",
    "adabst_fit = AdaBoostClassifier(base_estimator= dtree,\n",
    "        n_estimators=5000,learning_rate=0.05,random_state=42)\n",
    "\n",
    "adabst_fit.fit(X_train, y_train)\n",
    "     \n",
    "print (\"\\nAdaBoost  - Train accuracy:\", accuracy_score(y_train,adabst_fit.predict(X_train))*100)\n",
    "print (\"\\nAdaBoost  - Test accuracy:\", accuracy_score(y_test,adabst_fit.predict(X_test))*100)\n"
   ]
  },
  {
   "cell_type": "markdown",
   "metadata": {},
   "source": [
    "# Gradientboost Classifier"
   ]
  },
  {
   "cell_type": "code",
   "execution_count": 53,
   "metadata": {},
   "outputs": [
    {
     "name": "stdout",
     "output_type": "stream",
     "text": [
      "\n",
      "Gradient Boost - Train accuracy 100.0\n",
      "\n",
      "Gradient Boost - Test accuracy 92.95352323838081\n"
     ]
    }
   ],
   "source": [
    "from sklearn.ensemble import GradientBoostingClassifier\n",
    "\n",
    "gbc_fit = GradientBoostingClassifier(loss='deviance',learning_rate=0.05,n_estimators=5000,\n",
    "                                     min_samples_split=2,min_samples_leaf=1,max_depth=None,random_state=42 )\n",
    "gbc_fit.fit(X_train,y_train)\n",
    "\n",
    "\n",
    "print (\"\\nGradient Boost - Train accuracy\", accuracy_score(y_train,gbc_fit.predict(X_train))*100)\n",
    "print (\"\\nGradient Boost - Test accuracy\", accuracy_score(y_test,gbc_fit.predict(X_test))*100)\n"
   ]
  },
  {
   "cell_type": "code",
   "execution_count": null,
   "metadata": {},
   "outputs": [],
   "source": []
  },
  {
   "cell_type": "code",
   "execution_count": null,
   "metadata": {},
   "outputs": [],
   "source": []
  }
 ],
 "metadata": {
  "kernelspec": {
   "display_name": "Python 3",
   "language": "python",
   "name": "python3"
  },
  "language_info": {
   "codemirror_mode": {
    "name": "ipython",
    "version": 3
   },
   "file_extension": ".py",
   "mimetype": "text/x-python",
   "name": "python",
   "nbconvert_exporter": "python",
   "pygments_lexer": "ipython3",
   "version": "3.7.3"
  }
 },
 "nbformat": 4,
 "nbformat_minor": 2
}
